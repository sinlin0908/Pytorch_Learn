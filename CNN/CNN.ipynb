{
 "cells": [
  {
   "cell_type": "code",
   "execution_count": 1,
   "metadata": {},
   "outputs": [],
   "source": [
    "import torch\n",
    "import torch.nn.functional as F\n",
    "import torch.nn as nn\n",
    "import torch.utils.data as Data\n",
    "import torch.cuda \n",
    "\n",
    "\n",
    "import torchvision #數據庫\n",
    "\n",
    "import matplotlib.pyplot as plt\n",
    "\n",
    "import os\n",
    "\n",
    "torch.manual_seed(1)\n",
    "USE_CUDA = torch.cuda.is_available()\n",
    "device = torch.device(\"cuda\" if USE_CUDA else \"cpu\")\n",
    "\n",
    "\n",
    "  \n",
    "\n",
    "config = {\n",
    "    \"epoch\":5,\n",
    "    \"batch_size\":50,\n",
    "    \"LR\":0.001,\n",
    "    \"DOWNLOAD_MNIST\": False if os.path.exists('./mnist') else True\n",
    "}\n",
    "\n",
    "\n",
    "train_data = torchvision.datasets.MNIST(\n",
    "    root='./mnist',\n",
    "    train=True,\n",
    "    transform=torchvision.transforms.ToTensor(), # 值 0 ～ 1 \n",
    "    download=config[\"DOWNLOAD_MNIST\"]\n",
    ")"
   ]
  },
  {
   "cell_type": "code",
   "execution_count": 2,
   "metadata": {},
   "outputs": [
    {
     "data": {
      "text/plain": [
       "0"
      ]
     },
     "execution_count": 2,
     "metadata": {},
     "output_type": "execute_result"
    }
   ],
   "source": [
    "torch.cuda.current_device()\n"
   ]
  },
  {
   "cell_type": "code",
   "execution_count": 3,
   "metadata": {},
   "outputs": [
    {
     "data": {
      "text/plain": [
       "(torch.Size([60000, 28, 28]), torch.Size([60000]))"
      ]
     },
     "execution_count": 3,
     "metadata": {},
     "output_type": "execute_result"
    }
   ],
   "source": [
    "# Picture size\n",
    "\n",
    "train_data.train_data.size(),train_data.train_labels.size()"
   ]
  },
  {
   "cell_type": "code",
   "execution_count": 4,
   "metadata": {},
   "outputs": [
    {
     "data": {
      "image/png": "[encoded data removed]",
      "text/plain": [
       "<Figure size 432x288 with 1 Axes>"
      ]
     },
     "metadata": {
      "needs_background": "light"
     },
     "output_type": "display_data"
    }
   ],
   "source": [
    "# show Picture\n",
    "\n",
    "plt.imshow(train_data.train_data[0].numpy(), cmap='gray')\n",
    "plt.title('%i' % train_data.train_labels[0])\n",
    "plt.show()"
   ]
  },
  {
   "cell_type": "code",
   "execution_count": 5,
   "metadata": {},
   "outputs": [],
   "source": [
    "# 載入 data loader\n",
    "\n",
    "data_loader = Data.DataLoader(\n",
    "    dataset=train_data,\n",
    "    batch_size=config['batch_size'],\n",
    "    shuffle=True,\n",
    "    num_workers=2\n",
    ")"
   ]
  },
  {
   "cell_type": "code",
   "execution_count": 6,
   "metadata": {},
   "outputs": [],
   "source": [
    "test_data = torchvision.datasets.MNIST(\n",
    "    root='./mnist',\n",
    "    train=False,\n",
    ")"
   ]
  },
  {
   "cell_type": "code",
   "execution_count": 7,
   "metadata": {},
   "outputs": [
    {
     "data": {
      "text/plain": [
       "torch.Size([10000, 28, 28])"
      ]
     },
     "execution_count": 7,
     "metadata": {},
     "output_type": "execute_result"
    }
   ],
   "source": [
    "test_data.test_data.size()"
   ]
  },
  {
   "cell_type": "code",
   "execution_count": 8,
   "metadata": {},
   "outputs": [
    {
     "data": {
      "text/plain": [
       "(torch.Size([10000, 1, 28, 28]), torch.Size([10000]))"
      ]
     },
     "execution_count": 8,
     "metadata": {},
     "output_type": "execute_result"
    }
   ],
   "source": [
    "# 加 batch_size 維度\n",
    "# shape from (10000, 28, 28) to (10000, 1, 28, 28)\n",
    "# 一筆資料 (1,28,28)\n",
    "\n",
    "test_x = torch.unsqueeze(test_data.test_data, dim=1).type(torch.FloatTensor)\n",
    "# value in range(0,1)\n",
    "test_x /= 255. # normalize\n",
    "\n",
    "test_y = test_data.test_labels\n",
    "\n",
    "test_x.size(),test_y.size()"
   ]
  },
  {
   "cell_type": "code",
   "execution_count": 9,
   "metadata": {},
   "outputs": [],
   "source": [
    "# CNN model \n",
    "\n",
    "class CNN(nn.Module):\n",
    "    def __init__(self):\n",
    "        super(CNN,self).__init__()\n",
    "        \n",
    "        # 一個 conv_layer\n",
    "        self.conv_layer1 = nn.Sequential(\n",
    "            # 2d掃描器,區域提取訊息特徵\n",
    "            nn.Conv2d(\n",
    "                in_channels = 1, #高度 像 RGB 有 3 個\n",
    "                out_channels = 16, # 16個 filter 同時掃描\n",
    "                kernel_size = 5, # 每個 filter的長寬\n",
    "                stride = 1, # filter 一次走得步數\n",
    "                \n",
    "                padding = 2, #讓 data 補足 padding = (kernel_size-1)/2\n",
    "            ),   # -> (16,28,28)\n",
    "            nn.ReLU(), # -> # (16,28,28)\n",
    "            nn.MaxPool2d(kernel_size=2), #篩選重要資訊 取最大\n",
    "                                         # -> (16,14,14)\n",
    "        )\n",
    "        \n",
    "        self.conv_layer2 = nn.Sequential(\n",
    "            nn.Conv2d(\n",
    "                in_channels=16,\n",
    "                out_channels = 32,\n",
    "                kernel_size = 5,\n",
    "                stride = 1,\n",
    "                padding = 2\n",
    "            ), # -> (32,14,14)\n",
    "            \n",
    "            nn.ReLU(), # -> (32,14,14)\n",
    "            \n",
    "            nn.MaxPool2d(kernel_size=2) #  -> (32,7,7)\n",
    "        )\n",
    "        \n",
    "        self.output_layer = nn.Linear(\n",
    "            in_features=32*7*7,  #  (32,7,7) -> (32*7*7)\n",
    "            out_features=10\n",
    "        )\n",
    "        \n",
    "    def forward(self,x):\n",
    "        x = self.conv_layer1(x)\n",
    "        x = self.conv_layer2(x)  #->(batch,32,7,7)\n",
    "        \n",
    "        x = x.view(x.size(0),-1) # 壓縮 data (batch,32,7,7) ->(batch,32*7*7)\n",
    "        \n",
    "        \n",
    "        \n",
    "        return self.output_layer(x)  # 使用 nn.CrossEntropyLoss 不需要加 softmax\n",
    "                                     # This criterion combines nn.LogSoftmax() and nn.NLLLoss() in one single class.\n",
    "        \n",
    "        \n",
    "        "
   ]
  },
  {
   "cell_type": "code",
   "execution_count": 10,
   "metadata": {
    "scrolled": true
   },
   "outputs": [
    {
     "name": "stdout",
     "output_type": "stream",
     "text": [
      "CNN(\n",
      "  (conv_layer1): Sequential(\n",
      "    (0): Conv2d(1, 16, kernel_size=(5, 5), stride=(1, 1), padding=(2, 2))\n",
      "    (1): ReLU()\n",
      "    (2): MaxPool2d(kernel_size=2, stride=2, padding=0, dilation=1, ceil_mode=False)\n",
      "  )\n",
      "  (conv_layer2): Sequential(\n",
      "    (0): Conv2d(16, 32, kernel_size=(5, 5), stride=(1, 1), padding=(2, 2))\n",
      "    (1): ReLU()\n",
      "    (2): MaxPool2d(kernel_size=2, stride=2, padding=0, dilation=1, ceil_mode=False)\n",
      "  )\n",
      "  (output_layer): Linear(in_features=1568, out_features=10, bias=True)\n",
      ")\n"
     ]
    }
   ],
   "source": [
    "# Create Model\n",
    "        \n",
    "model = CNN().to(device) if torch.cuda.is_available() else CNN()\n",
    "\n",
    "print(model)"
   ]
  },
  {
   "cell_type": "code",
   "execution_count": 11,
   "metadata": {},
   "outputs": [],
   "source": [
    "def draw_loss(loss_history):\n",
    "    \n",
    "    plt.plot(loss_history,label=\"loss\",linewidth=1)\n",
    "    plt.legend(loc='best')\n",
    "    plt.xlabel('Steps')\n",
    "    plt.ylabel('Loss')\n",
    "    plt.ylim((0, 4))\n",
    "    plt.show()\n",
    "\n",
    "\n",
    "def train(model):\n",
    "    l_h = []\n",
    "    \n",
    "    model.train()\n",
    "    \n",
    "    optimizer = torch.optim.Adam(model.parameters(),lr=config['LR'])\n",
    "    loss_fun = nn.CrossEntropyLoss()\n",
    "    \n",
    "    for epoch in range(config['epoch']):\n",
    "        for step,(b_x,b_y) in enumerate(data_loader):\n",
    "            \n",
    "            b_x,b_y = b_x.to(device), b_y.to(device)\n",
    "            optimizer.zero_grad()      \n",
    "            \n",
    "            output = model(b_x)\n",
    "            \n",
    "            loss = loss_fun(output,b_y)\n",
    "            \n",
    "            \n",
    "            \n",
    "            loss.backward()\n",
    "            optimizer.step()\n",
    "            \n",
    "            l_h.append(loss.item()) # item() get a Python number from a tensor containing a single value\n",
    "                                    # print(loss.item(),loss.detach())\n",
    "                                    # 0.000888 tensor(0.0009, device='cuda:0')\n",
    "\n",
    "            if step % 200 == 0:\n",
    "                \n",
    "                print('Epoch: ', epoch, '| step ',step,'| train loss: %.4f' % loss.item())\n",
    "                \n",
    "                \n",
    "            \n",
    "    \n",
    "    \n",
    "    draw_loss(l_h)\n",
    "    "
   ]
  },
  {
   "cell_type": "code",
   "execution_count": 12,
   "metadata": {},
   "outputs": [
    {
     "data": {
      "text/plain": [
       "True"
      ]
     },
     "execution_count": 12,
     "metadata": {},
     "output_type": "execute_result"
    }
   ],
   "source": [
    "torch.cuda.is_available()"
   ]
  },
  {
   "cell_type": "code",
   "execution_count": 13,
   "metadata": {},
   "outputs": [
    {
     "name": "stdout",
     "output_type": "stream",
     "text": [
      "Epoch:  0 | step  0 | train loss: 2.3105\n",
      "Epoch:  0 | step  200 | train loss: 0.4053\n",
      "Epoch:  0 | step  400 | train loss: 0.1236\n",
      "Epoch:  0 | step  600 | train loss: 0.0239\n",
      "Epoch:  0 | step  800 | train loss: 0.0435\n",
      "Epoch:  0 | step  1000 | train loss: 0.0329\n",
      "Epoch:  1 | step  0 | train loss: 0.0200\n",
      "Epoch:  1 | step  200 | train loss: 0.0136\n",
      "Epoch:  1 | step  400 | train loss: 0.2024\n",
      "Epoch:  1 | step  600 | train loss: 0.0604\n",
      "Epoch:  1 | step  800 | train loss: 0.0018\n",
      "Epoch:  1 | step  1000 | train loss: 0.0026\n",
      "Epoch:  2 | step  0 | train loss: 0.0378\n",
      "Epoch:  2 | step  200 | train loss: 0.0175\n",
      "Epoch:  2 | step  400 | train loss: 0.0336\n",
      "Epoch:  2 | step  600 | train loss: 0.0023\n",
      "Epoch:  2 | step  800 | train loss: 0.1825\n",
      "Epoch:  2 | step  1000 | train loss: 0.0370\n",
      "Epoch:  3 | step  0 | train loss: 0.0390\n",
      "Epoch:  3 | step  200 | train loss: 0.0484\n",
      "Epoch:  3 | step  400 | train loss: 0.0057\n",
      "Epoch:  3 | step  600 | train loss: 0.0471\n",
      "Epoch:  3 | step  800 | train loss: 0.0035\n",
      "Epoch:  3 | step  1000 | train loss: 0.0046\n",
      "Epoch:  4 | step  0 | train loss: 0.0166\n",
      "Epoch:  4 | step  200 | train loss: 0.0166\n",
      "Epoch:  4 | step  400 | train loss: 0.0182\n",
      "Epoch:  4 | step  600 | train loss: 0.0018\n",
      "Epoch:  4 | step  800 | train loss: 0.0060\n",
      "Epoch:  4 | step  1000 | train loss: 0.0723\n"
     ]
    },
    {
     "data": {
      "image/png": "[encoded data removed]",
      "text/plain": [
       "<Figure size 432x288 with 1 Axes>"
      ]
     },
     "metadata": {
      "needs_background": "light"
     },
     "output_type": "display_data"
    }
   ],
   "source": [
    "train(model)"
   ]
  },
  {
   "cell_type": "code",
   "execution_count": 14,
   "metadata": {},
   "outputs": [],
   "source": [
    "def test(model,test_x,test_y):\n",
    "    model.eval()\n",
    "    \n",
    "    with torch.no_grad():\n",
    "        test_x,test_y = test_x.to(device),test_y.to(device)                                                   \n",
    "        output = model(test_x)\n",
    "        predit = torch.max(output, 1)[1]\n",
    "        accuracy = torch.sum(predit==test_y).type(torch.FloatTensor)/test_y.size(0)\n",
    "        \n",
    "        print(accuracy.item())\n",
    "    "
   ]
  },
  {
   "cell_type": "code",
   "execution_count": 15,
   "metadata": {},
   "outputs": [
    {
     "name": "stdout",
     "output_type": "stream",
     "text": [
      "0.9883000254631042\n"
     ]
    }
   ],
   "source": [
    "test(model,test_x,test_y)"
   ]
  }
 ],
 "metadata": {
  "kernelspec": {
   "display_name": "Python 3",
   "language": "python",
   "name": "python3"
  },
  "language_info": {
   "codemirror_mode": {
    "name": "ipython",
    "version": 3
   },
   "file_extension": ".py",
   "mimetype": "text/x-python",
   "name": "python",
   "nbconvert_exporter": "python",
   "pygments_lexer": "ipython3",
   "version": "3.6.8"
  }
 },
 "nbformat": 4,
 "nbformat_minor": 2
}
