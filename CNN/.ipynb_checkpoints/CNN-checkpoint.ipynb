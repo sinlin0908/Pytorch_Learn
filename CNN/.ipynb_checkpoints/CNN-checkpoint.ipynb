{
 "cells": [
  {
   "cell_type": "code",
   "execution_count": 1,
   "metadata": {},
   "outputs": [],
   "source": [
    "import torch\n",
    "import torch.nn.functional as F\n",
    "import torch.nn as nn\n",
    "import torch.utils.data as Data\n",
    "import torch.cuda \n",
    "\n",
    "\n",
    "import torchvision #數據庫\n",
    "\n",
    "import matplotlib.pyplot as plt\n",
    "\n",
    "import os\n",
    "\n",
    "torch.manual_seed(1)\n",
    "USE_CUDA = torch.cuda.is_available()\n",
    "device = torch.device(\"cuda\" if USE_CUDA else \"cpu\")\n",
    "\n",
    "\n",
    "  \n",
    "\n",
    "config = {\n",
    "    \"epoch\":5,\n",
    "    \"batch_size\":50,\n",
    "    \"LR\":0.001,\n",
    "    \"DOWNLOAD_MNIST\": False if os.path.exists('./mnist') else True\n",
    "}\n",
    "\n",
    "\n",
    "train_data = torchvision.datasets.MNIST(\n",
    "    root='./mnist',\n",
    "    train=True,\n",
    "    transform=torchvision.transforms.ToTensor(), # 值 0 ～ 1 \n",
    "    download=config[\"DOWNLOAD_MNIST\"]\n",
    ")"
   ]
  },
  {
   "cell_type": "code",
   "execution_count": 2,
   "metadata": {},
   "outputs": [
    {
     "data": {
      "text/plain": [
       "0"
      ]
     },
     "execution_count": 2,
     "metadata": {},
     "output_type": "execute_result"
    }
   ],
   "source": [
    "torch.cuda.current_device()\n"
   ]
  },
  {
   "cell_type": "code",
   "execution_count": 3,
   "metadata": {},
   "outputs": [
    {
     "data": {
      "text/plain": [
       "(torch.Size([60000, 28, 28]), torch.Size([60000]))"
      ]
     },
     "execution_count": 3,
     "metadata": {},
     "output_type": "execute_result"
    }
   ],
   "source": [
    "# Picture size\n",
    "\n",
    "train_data.train_data.size(),train_data.train_labels.size()"
   ]
  },
  {
   "cell_type": "code",
   "execution_count": 4,
   "metadata": {},
   "outputs": [
    {
     "data": {
      "image/png": "[encoded data removed]",
      "text/plain": [
       "<Figure size 432x288 with 1 Axes>"
      ]
     },
     "metadata": {
      "needs_background": "light"
     },
     "output_type": "display_data"
    }
   ],
   "source": [
    "# show Picture\n",
    "\n",
    "plt.imshow(train_data.train_data[0].numpy(), cmap='gray')\n",
    "plt.title('%i' % train_data.train_labels[0])\n",
    "plt.show()"
   ]
  },
  {
   "cell_type": "code",
   "execution_count": 5,
   "metadata": {},
   "outputs": [],
   "source": [
    "# 載入 data loader\n",
    "\n",
    "data_loader = Data.DataLoader(\n",
    "    dataset=train_data,\n",
    "    batch_size=config['batch_size'],\n",
    "    shuffle=True,\n",
    "    num_workers=2\n",
    ")"
   ]
  },
  {
   "cell_type": "code",
   "execution_count": 6,
   "metadata": {},
   "outputs": [],
   "source": [
    "test_data = torchvision.datasets.MNIST(\n",
    "    root='./mnist',\n",
    "    train=False,\n",
    ")"
   ]
  },
  {
   "cell_type": "code",
   "execution_count": 7,
   "metadata": {},
   "outputs": [
    {
     "data": {
      "text/plain": [
       "torch.Size([10000, 28, 28])"
      ]
     },
     "execution_count": 7,
     "metadata": {},
     "output_type": "execute_result"
    }
   ],
   "source": [
    "test_data.test_data.size()"
   ]
  },
  {
   "cell_type": "code",
   "execution_count": 8,
   "metadata": {},
   "outputs": [
    {
     "data": {
      "text/plain": [
       "(torch.Size([10000, 1, 28, 28]), torch.Size([10000]))"
      ]
     },
     "execution_count": 8,
     "metadata": {},
     "output_type": "execute_result"
    }
   ],
   "source": [
    "# 加 batch_size 維度\n",
    "# shape from (10000, 28, 28) to (10000, 1, 28, 28)\n",
    "# 一筆資料 (1,28,28)\n",
    "\n",
    "test_x = torch.unsqueeze(test_data.test_data, dim=1).type(torch.FloatTensor)\n",
    "# value in range(0,1)\n",
    "test_x /= 255. # normalize\n",
    "\n",
    "test_y = test_data.test_labels\n",
    "\n",
    "test_x.size(),test_y.size()"
   ]
  },
  {
   "cell_type": "code",
   "execution_count": 9,
   "metadata": {},
   "outputs": [],
   "source": [
    "# CNN model \n",
    "\n",
    "class CNN(nn.Module):\n",
    "    def __init__(self):\n",
    "        super(CNN,self).__init__()\n",
    "        \n",
    "        # 一個 conv_layer\n",
    "        self.conv_layer1 = nn.Sequential(\n",
    "            # 2d掃描器,區域提取訊息特徵\n",
    "            nn.Conv2d(\n",
    "                in_channels = 1, #高度 像 RGB 有 3 個\n",
    "                out_channels = 16, # 16個 filter 同時掃描\n",
    "                kernel_size = 5, # 每個 filter的長寬\n",
    "                stride = 1, # filter 一次走得步數\n",
    "                \n",
    "                padding = 2, #讓 data 補足 padding = (kernel_size-1)/2\n",
    "            ),   # -> (16,28,28)\n",
    "            nn.ReLU(), # -> # (16,28,28)\n",
    "            nn.MaxPool2d(kernel_size=2), #篩選重要資訊 取最大\n",
    "                                         # -> (16,14,14)\n",
    "        )\n",
    "        \n",
    "        self.conv_layer2 = nn.Sequential(\n",
    "            nn.Conv2d(\n",
    "                in_channels=16,\n",
    "                out_channels = 32,\n",
    "                kernel_size = 5,\n",
    "                stride = 1,\n",
    "                padding = 2\n",
    "            ), # -> (32,14,14)\n",
    "            \n",
    "            nn.ReLU(), # -> (32,14,14)\n",
    "            \n",
    "            nn.MaxPool2d(kernel_size=2) #  -> (32,7,7)\n",
    "        )\n",
    "        \n",
    "        self.output_layer = nn.Linear(\n",
    "            in_features=32*7*7,  #  (32,7,7) -> (32*7*7)\n",
    "            out_features=10\n",
    "        )\n",
    "        \n",
    "    def forward(self,x):\n",
    "        x = self.conv_layer1(x)\n",
    "        x = self.conv_layer2(x)  #->(batch,32,7,7)\n",
    "        \n",
    "        x = x.view(x.size(0),-1) # 壓縮 data (batch,32,7,7) ->(batch,32*7*7)\n",
    "        \n",
    "        output = self.output_layer(x)\n",
    "        \n",
    "        return output\n",
    "        \n",
    "        \n",
    "        "
   ]
  },
  {
   "cell_type": "code",
   "execution_count": 10,
   "metadata": {
    "scrolled": true
   },
   "outputs": [
    {
     "name": "stdout",
     "output_type": "stream",
     "text": [
      "CNN(\n",
      "  (conv_layer1): Sequential(\n",
      "    (0): Conv2d(1, 16, kernel_size=(5, 5), stride=(1, 1), padding=(2, 2))\n",
      "    (1): ReLU()\n",
      "    (2): MaxPool2d(kernel_size=2, stride=2, padding=0, dilation=1, ceil_mode=False)\n",
      "  )\n",
      "  (conv_layer2): Sequential(\n",
      "    (0): Conv2d(16, 32, kernel_size=(5, 5), stride=(1, 1), padding=(2, 2))\n",
      "    (1): ReLU()\n",
      "    (2): MaxPool2d(kernel_size=2, stride=2, padding=0, dilation=1, ceil_mode=False)\n",
      "  )\n",
      "  (output_layer): Linear(in_features=1568, out_features=10, bias=True)\n",
      ")\n"
     ]
    }
   ],
   "source": [
    "# Create Model\n",
    "\n",
    "model = CNN().to(device)\n",
    "\n",
    "print(model)"
   ]
  },
  {
   "cell_type": "code",
   "execution_count": 11,
   "metadata": {},
   "outputs": [],
   "source": [
    "def draw_loss(loss_history):\n",
    "    \n",
    "    plt.plot(loss_history,label=\"loss\",linewidth=1)\n",
    "    plt.legend(loc='best')\n",
    "    plt.xlabel('Steps')\n",
    "    plt.ylabel('Loss')\n",
    "    plt.ylim((0, 10))\n",
    "    plt.show()\n",
    "\n",
    "\n",
    "def train(model):\n",
    "    l_h = []\n",
    "    \n",
    "    if torch.cuda.current_device():\n",
    "        model.cuda()\n",
    "    model.train()\n",
    "    \n",
    "    optimizer = torch.optim.Adam(model.parameters(),lr=config['LR'])\n",
    "    loss_fun = nn.CrossEntropyLoss()\n",
    "    \n",
    "    for epoch in range(config['epoch']):\n",
    "        for step,(b_x,b_y) in enumerate(data_loader):\n",
    "            \n",
    "            b_x,b_y = b_x.to(device), b_y.to(device)\n",
    "            optimizer.zero_grad()      \n",
    "            \n",
    "            output = model(b_x)\n",
    "            \n",
    "            loss = loss_fun(output,b_y)\n",
    "            \n",
    "            \n",
    "            \n",
    "            loss.backward()\n",
    "            optimizer.step()\n",
    "            \n",
    "            l_h.append(loss)\n",
    "            \n",
    "\n",
    "            if step % 200 == 0:\n",
    "                print('Epoch: ', epoch, '| step ',step,'| train loss: %.4f' % loss.item())\n",
    "                \n",
    "            \n",
    "    \n",
    "    \n",
    "    draw_loss(l_h)\n",
    "    "
   ]
  },
  {
   "cell_type": "code",
   "execution_count": 12,
   "metadata": {},
   "outputs": [
    {
     "name": "stdout",
     "output_type": "stream",
     "text": [
      "Epoch:  0 | step  0 | train loss: 2.3105\n",
      "Epoch:  0 | step  100 | train loss: 0.1270\n",
      "Epoch:  0 | step  200 | train loss: 0.4045\n",
      "Epoch:  0 | step  300 | train loss: 0.1929\n",
      "Epoch:  0 | step  400 | train loss: 0.1228\n",
      "Epoch:  0 | step  500 | train loss: 0.2228\n",
      "Epoch:  0 | step  600 | train loss: 0.0237\n",
      "Epoch:  0 | step  700 | train loss: 0.2138\n",
      "Epoch:  0 | step  800 | train loss: 0.0427\n",
      "Epoch:  0 | step  900 | train loss: 0.0545\n",
      "Epoch:  0 | step  1000 | train loss: 0.0323\n",
      "Epoch:  0 | step  1100 | train loss: 0.0251\n",
      "Epoch:  1 | step  0 | train loss: 0.0225\n",
      "Epoch:  1 | step  100 | train loss: 0.0647\n",
      "Epoch:  1 | step  200 | train loss: 0.0124\n",
      "Epoch:  1 | step  300 | train loss: 0.0288\n",
      "Epoch:  1 | step  400 | train loss: 0.1907\n",
      "Epoch:  1 | step  500 | train loss: 0.0543\n",
      "Epoch:  1 | step  600 | train loss: 0.0580\n",
      "Epoch:  1 | step  700 | train loss: 0.0049\n",
      "Epoch:  1 | step  800 | train loss: 0.0017\n",
      "Epoch:  1 | step  900 | train loss: 0.0277\n",
      "Epoch:  1 | step  1000 | train loss: 0.0024\n",
      "Epoch:  1 | step  1100 | train loss: 0.0356\n",
      "Epoch:  2 | step  0 | train loss: 0.0369\n",
      "Epoch:  2 | step  100 | train loss: 0.0867\n",
      "Epoch:  2 | step  200 | train loss: 0.0179\n",
      "Epoch:  2 | step  300 | train loss: 0.0514\n",
      "Epoch:  2 | step  400 | train loss: 0.0272\n",
      "Epoch:  2 | step  500 | train loss: 0.0925\n",
      "Epoch:  2 | step  600 | train loss: 0.0022\n",
      "Epoch:  2 | step  700 | train loss: 0.0402\n",
      "Epoch:  2 | step  800 | train loss: 0.1792\n",
      "Epoch:  2 | step  900 | train loss: 0.0519\n",
      "Epoch:  2 | step  1000 | train loss: 0.0421\n",
      "Epoch:  2 | step  1100 | train loss: 0.0392\n",
      "Epoch:  3 | step  0 | train loss: 0.0436\n",
      "Epoch:  3 | step  100 | train loss: 0.0069\n",
      "Epoch:  3 | step  200 | train loss: 0.0429\n",
      "Epoch:  3 | step  300 | train loss: 0.0861\n",
      "Epoch:  3 | step  400 | train loss: 0.0054\n",
      "Epoch:  3 | step  500 | train loss: 0.0061\n",
      "Epoch:  3 | step  600 | train loss: 0.0341\n",
      "Epoch:  3 | step  700 | train loss: 0.0412\n",
      "Epoch:  3 | step  800 | train loss: 0.0029\n",
      "Epoch:  3 | step  900 | train loss: 0.0615\n",
      "Epoch:  3 | step  1000 | train loss: 0.0034\n",
      "Epoch:  3 | step  1100 | train loss: 0.0078\n",
      "Epoch:  4 | step  0 | train loss: 0.0115\n",
      "Epoch:  4 | step  100 | train loss: 0.0067\n",
      "Epoch:  4 | step  200 | train loss: 0.0116\n",
      "Epoch:  4 | step  300 | train loss: 0.0057\n",
      "Epoch:  4 | step  400 | train loss: 0.0100\n",
      "Epoch:  4 | step  500 | train loss: 0.0016\n",
      "Epoch:  4 | step  600 | train loss: 0.0030\n",
      "Epoch:  4 | step  700 | train loss: 0.0124\n",
      "Epoch:  4 | step  800 | train loss: 0.0093\n",
      "Epoch:  4 | step  900 | train loss: 0.0722\n",
      "Epoch:  4 | step  1000 | train loss: 0.0625\n",
      "Epoch:  4 | step  1100 | train loss: 0.0067\n"
     ]
    },
    {
     "data": {
      "image/png": "[encoded data removed]",
      "text/plain": [
       "<Figure size 432x288 with 1 Axes>"
      ]
     },
     "metadata": {
      "needs_background": "light"
     },
     "output_type": "display_data"
    }
   ],
   "source": [
    "train(model)"
   ]
  },
  {
   "cell_type": "code",
   "execution_count": null,
   "metadata": {},
   "outputs": [],
   "source": []
  }
 ],
 "metadata": {
  "kernelspec": {
   "display_name": "Python 3",
   "language": "python",
   "name": "python3"
  },
  "language_info": {
   "codemirror_mode": {
    "name": "ipython",
    "version": 3
   },
   "file_extension": ".py",
   "mimetype": "text/x-python",
   "name": "python",
   "nbconvert_exporter": "python",
   "pygments_lexer": "ipython3",
   "version": "3.6.8"
  }
 },
 "nbformat": 4,
 "nbformat_minor": 2
}
