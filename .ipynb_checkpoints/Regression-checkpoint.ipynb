{
 "cells": [
  {
   "cell_type": "code",
   "execution_count": 6,
   "metadata": {},
   "outputs": [],
   "source": [
    "import torch\n",
    "from torch.autograd import Variable\n",
    "import torch.nn.functional as Function\n",
    "\n",
    "import matplotlib.pyplot as plt\n",
    "\n",
    "# Data \n",
    "\n",
    "class Data(object):\n",
    "    def __init__(self):\n",
    "        self.x = torch.unsqueeze(torch.linspace(-1,1,100),dim=1) # unsqueeze 一維轉成二維 [1,2,3] -> [[1,2,3]]\n",
    "        self.y = self.x.pow(2) + 0.2*torch.rand(self.x.size())\n",
    "\n",
    "        self.x , self.y = Variable(self.x) , Variable(self.y)\n",
    "        \n",
    "    def get_data(self):\n",
    "        return self.x , self.y"
   ]
  },
  {
   "cell_type": "code",
   "execution_count": 9,
   "metadata": {},
   "outputs": [],
   "source": [
    "def draw(x,y):\n",
    "    plt.scatter(x,y)\n",
    "    plt.show()    "
   ]
  },
  {
   "cell_type": "code",
   "execution_count": 10,
   "metadata": {},
   "outputs": [
    {
     "data": {
      "image/png": "[encoded data removed]",
      "text/plain": [
       "<Figure size 432x288 with 1 Axes>"
      ]
     },
     "metadata": {
      "needs_background": "light"
     },
     "output_type": "display_data"
    }
   ],
   "source": [
    "# print Data\n",
    "data = Data()\n",
    "\n",
    "x,y = data.get_data()\n",
    "\n",
    "draw(x.data.numpy(),y.data.numpy())\n",
    "\n"
   ]
  },
  {
   "cell_type": "code",
   "execution_count": null,
   "metadata": {},
   "outputs": [],
   "source": [
    "# Create Net\n",
    "\n",
    "class Net(torch.nn.Module):\n",
    "    def __inti__(self):\n",
    "        pass\n",
    "        \n",
    "    def forward(self):\n",
    "        pass\n"
   ]
  }
 ],
 "metadata": {
  "kernelspec": {
   "display_name": "Python 3",
   "language": "python",
   "name": "python3"
  },
  "language_info": {
   "codemirror_mode": {
    "name": "ipython",
    "version": 3
   },
   "file_extension": ".py",
   "mimetype": "text/x-python",
   "name": "python",
   "nbconvert_exporter": "python",
   "pygments_lexer": "ipython3",
   "version": "3.6.8"
  }
 },
 "nbformat": 4,
 "nbformat_minor": 2
}
