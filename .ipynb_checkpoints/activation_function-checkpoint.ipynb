{
 "cells": [
  {
   "cell_type": "code",
   "execution_count": null,
   "metadata": {},
   "outputs": [],
   "source": [
    "import torch\n",
    "import torch.nn.functional \n",
    "from torch.autograd import Variable\n",
    "\n",
    "import matplotlib.pyplotl as plt  #畫圖用的\n",
    "\n",
    "\n",
    "def relu(x):\n",
    "    return torch.nn.functional.relu(x)\n",
    "\n",
    "def sigmoid(x):\n",
    "    return torch.nn.functional.sigmoid(x)\n",
    "\n",
    "def tanh(x):\n",
    "    return torch.nn.functional.tanh(x)\n",
    "\n",
    "def softmax(x):\n",
    "    return torch.nn.functional.softmax(x)\n"
   ]
  },
  {
   "cell_type": "code",
   "execution_count": null,
   "metadata": {},
   "outputs": [],
   "source": [
    "# fake data\n",
    "\n",
    "x = torch.linspace(-5,5,200) # (tensor) , shape = (200,1)\n",
    "x = Variable(x)\n",
    "x_np = x.data.numpy()\n"
   ]
  }
 ],
 "metadata": {
  "kernelspec": {
   "display_name": "Python 3",
   "language": "python",
   "name": "python3"
  },
  "language_info": {
   "codemirror_mode": {
    "name": "ipython",
    "version": 3
   },
   "file_extension": ".py",
   "mimetype": "text/x-python",
   "name": "python",
   "nbconvert_exporter": "python",
   "pygments_lexer": "ipython3",
   "version": "3.6.8"
  }
 },
 "nbformat": 4,
 "nbformat_minor": 2
}
