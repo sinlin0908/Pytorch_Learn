{
 "cells": [
  {
   "cell_type": "code",
   "execution_count": 1,
   "metadata": {},
   "outputs": [],
   "source": [
    "import torch\n",
    "import torch.nn as nn\n",
    "import torch.nn.functional as F\n",
    "import numpy as np\n",
    "\n",
    "import gym\n",
    "\n",
    "class Config(object):\n",
    "    BATCH_SIZE = 32\n",
    "    LR = 0.001\n",
    "    EPSILON = 0.9               # greedy policy\n",
    "    GAMMA = 0.9                 # reward discount\n",
    "    TARGET_REPLACE_ITER = 100   # target update frequency\n",
    "    MEMORY_CAPACITY = 2000\n",
    "\n",
    "env = gym.make('CartPole-v0')\n",
    "env = env.unwrapped\n",
    "N_ACTIONS = env.action_space.n\n",
    "N_STATES = env.observation_space.shape[0]\n",
    "ENV_A_SHAPE = 0 if isinstance(env.action_space.sample(), int) else env.action_space.sample().shape     # to confirm the shape"
   ]
  },
  {
   "cell_type": "code",
   "execution_count": null,
   "metadata": {},
   "outputs": [],
   "source": [
    "class Net(nn.Module):\n",
    "    def __init__(self):\n",
    "        super(Net,self).__init__()\n",
    "        \n",
    "        self.layer1 = nn.Linear(N_STATES,10) # 接受狀態\n",
    "        self.layer1.weight.data.normal_(0,0.1) # 初始 Weight\n",
    "        \n",
    "        self.output_layer = nn.Linear(10,N_ACTIONS) # 產生動作\n",
    "        self.output_layer.weight.data.normal_(0,0.1)\n",
    "        \n",
    "    def forward(self,x):\n",
    "        x = self.layer1(x)\n",
    "        x = F.relu(x)\n",
    "        action_value = self.output_layer(x)\n",
    "        \n",
    "        return action_value"
   ]
  },
  {
   "cell_type": "code",
   "execution_count": null,
   "metadata": {},
   "outputs": [],
   "source": [
    "class DQN(object):\n",
    "    def __init__(self):\n",
    "        self.eval_model,self.target_model = Net(),Net()\n",
    "\n",
    "    def choose_action(self,x):\n",
    "        '''\n",
    "        依照感應環境進行動作\n",
    "        '''\n",
    "        \n",
    "    \n",
    "    def store_transition(self,s,a,r,s_):\n",
    "        '''\n",
    "        記憶庫\n",
    "        '''\n",
    "        pass\n",
    "\n",
    "    def learn(self):\n",
    "        \n",
    "        pass"
   ]
  }
 ],
 "metadata": {
  "kernelspec": {
   "display_name": "Python 3",
   "language": "python",
   "name": "python3"
  },
  "language_info": {
   "codemirror_mode": {
    "name": "ipython",
    "version": 3
   },
   "file_extension": ".py",
   "mimetype": "text/x-python",
   "name": "python",
   "nbconvert_exporter": "python",
   "pygments_lexer": "ipython3",
   "version": "3.6.8"
  }
 },
 "nbformat": 4,
 "nbformat_minor": 2
}
