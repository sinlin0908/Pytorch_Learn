{
 "cells": [
  {
   "cell_type": "code",
   "execution_count": 1,
   "metadata": {},
   "outputs": [],
   "source": [
    "import torch\n",
    "from torch.autograd import Variable\n",
    "import torch.nn.functional as Function\n",
    "\n",
    "import matplotlib.pyplot as plt\n",
    "\n",
    "# Data \n",
    "\n",
    "class Data(object):\n",
    "    def __init__(self):\n",
    "        # unsqueeze 一維轉成二維 [1,2,3] -> [[1,2,3]]  (3) -> (3,1)\n",
    "        self.x = torch.unsqueeze(torch.linspace(-1,1,100),dim=1) \n",
    "        self.y = self.x.pow(2) + 0.2*torch.rand(self.x.size())\n",
    "\n",
    "        self.x , self.y = Variable(self.x) , Variable(self.y)\n",
    "        \n",
    "    def get_data(self):\n",
    "        return self.x , self.y"
   ]
  },
  {
   "cell_type": "code",
   "execution_count": 2,
   "metadata": {},
   "outputs": [],
   "source": [
    "config = {\n",
    "    'epoch':500,\n",
    "    'lr': 0.001\n",
    "}"
   ]
  },
  {
   "cell_type": "code",
   "execution_count": 3,
   "metadata": {},
   "outputs": [],
   "source": [
    "data = Data()\n",
    "\n",
    "x,y = data.get_data()"
   ]
  },
  {
   "cell_type": "code",
   "execution_count": 4,
   "metadata": {},
   "outputs": [],
   "source": [
    "class Net(torch.nn.Module):\n",
    "    def __init__(self,n_feature=1,n_hidden=1,n_label=1):\n",
    "        super(Net,self).__init__()\n",
    "        \n",
    "        # Define Network\n",
    "        # 這樣不代表已經建好神經網路\n",
    "        self.hidden_layer = torch.nn.Linear(n_feature,n_hidden)\n",
    "        self.output_layer = torch.nn.Linear(n_hidden,n_label)\n",
    "        \n",
    "        \n",
    "    def forward(self,x):\n",
    "        x = Function.relu(self.hidden_layer(x))\n",
    "        x = self.output_layer(x)\n",
    "        \n",
    "        return x"
   ]
  },
  {
   "cell_type": "code",
   "execution_count": 5,
   "metadata": {},
   "outputs": [
    {
     "name": "stdout",
     "output_type": "stream",
     "text": [
      "Net (\n",
      "  (hidden_layer): Linear (1 -> 10)\n",
      "  (output_layer): Linear (10 -> 1)\n",
      ")\n"
     ]
    }
   ],
   "source": [
    "\n",
    "net = Net(1,10,1)\n",
    "\n",
    "print(net) # 查看結構\n"
   ]
  },
  {
   "cell_type": "code",
   "execution_count": 6,
   "metadata": {},
   "outputs": [],
   "source": [
    "# 保存整個 model\n",
    "def save(model,step):\n",
    "    torch.save(model,\"model_{}.pkl\".format(step))\n",
    "\n",
    "def restore_model(file_name):\n",
    "    return torch.load(file_name)\n",
    "    \n",
    "# 只保存 model 參數\n",
    "def save_parameters(model,step):\n",
    "    torch.save(model.state_dict(),\"model_para_{}.pkl\".format(step))\n",
    "\n",
    "def restore_model_paras(file_name):\n",
    "    \n",
    "    model = Net(1,10,1)\n",
    "    model.load_state_dict( torch.load_state_dict(file_name))"
   ]
  },
  {
   "cell_type": "code",
   "execution_count": 8,
   "metadata": {},
   "outputs": [
    {
     "name": "stdout",
     "output_type": "stream",
     "text": [
      "Epoch[0/500] loss:[0.22226796]\n",
      "Epoch[50/500] loss:[0.09225678]\n",
      "Epoch[100/500] loss:[0.06454952]\n",
      "Epoch[150/500] loss:[0.0552843]\n",
      "Epoch[200/500] loss:[0.04712631]\n",
      "Epoch[250/500] loss:[0.03947677]\n",
      "Epoch[300/500] loss:[0.03241213]\n",
      "Epoch[350/500] loss:[0.02618444]\n",
      "Epoch[400/500] loss:[0.02096819]\n",
      "Epoch[450/500] loss:[0.01678337]\n"
     ]
    },
    {
     "name": "stderr",
     "output_type": "stream",
     "text": [
      "/home/sin/anaconda3/envs/pytorch_learn/lib/python3.6/site-packages/torch/serialization.py:147: UserWarning: Couldn't retrieve source code for container of type Net. It won't be checked for correctness upon loading.\n",
      "  \"type \" + obj.__name__ + \". It won't be checked \"\n"
     ]
    }
   ],
   "source": [
    "# 給 optimizer 全部的參數 -> net.parameters()\n",
    "\n",
    "optimizer = torch.optim.Adam(net.parameters(),lr=config['lr'])\n",
    "loss_func = torch.nn.MSELoss()\n",
    "\n",
    "net.train() # 設置 model 為 trainning mode\n",
    "\n",
    "for step in range(config['epoch']+):\n",
    "    out = net(x)\n",
    "    loss = loss_func(out,y)\n",
    "    \n",
    "    if step%50 == 0:\n",
    "        print(\"Epoch[{}/{}] loss:{}\".format(step,config['epoch'],loss.data.numpy()))\n",
    "        save(net,step)\n",
    "    \n",
    "    optimizer.zero_grad() # 初始梯度，上一次保留的梯度刪除\n",
    "    loss.backward()\n",
    "    optimizer.step() # 優化"
   ]
  },
  {
   "cell_type": "code",
   "execution_count": null,
   "metadata": {},
   "outputs": [],
   "source": [
    "restore_model(\"\")"
   ]
  }
 ],
 "metadata": {
  "kernelspec": {
   "display_name": "Python 3",
   "language": "python",
   "name": "python3"
  },
  "language_info": {
   "codemirror_mode": {
    "name": "ipython",
    "version": 3
   },
   "file_extension": ".py",
   "mimetype": "text/x-python",
   "name": "python",
   "nbconvert_exporter": "python",
   "pygments_lexer": "ipython3",
   "version": "3.6.8"
  }
 },
 "nbformat": 4,
 "nbformat_minor": 2
}
