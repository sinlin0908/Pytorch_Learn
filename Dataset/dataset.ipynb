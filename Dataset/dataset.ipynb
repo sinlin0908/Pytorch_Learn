{
 "cells": [
  {
   "cell_type": "code",
   "execution_count": 1,
   "metadata": {},
   "outputs": [],
   "source": [
    "import torch\n",
    "import torch.utils.data as Data\n",
    "\n",
    "BATCH_SIZE = 5\n",
    "EPOCH = 3\n",
    "\n",
    "# Data\n",
    "\n",
    "x = torch.linspace(1,10,10) # torch tensor\n",
    "y = torch.linspace(10,1,10) # torch tensor\n",
    "\n",
    "torch_dataset = Data.TensorDataset(data_tensor=x,target_tensor=y)\n",
    "\n",
    "# Data loader\n",
    "\n",
    "loader = Data.DataLoader(\n",
    "    dataset = torch_dataset,\n",
    "    batch_size = BATCH_SIZE,\n",
    "    shuffle = True,\n",
    "    num_workers = 2,\n",
    ")\n",
    "\n",
    "\n",
    "        "
   ]
  },
  {
   "cell_type": "code",
   "execution_count": 2,
   "metadata": {},
   "outputs": [
    {
     "name": "stdout",
     "output_type": "stream",
     "text": [
      "Epoch:  0   Step:  0   batch_x:  [ 3.  6.  5. 10.  7.]   batch_y:  [8. 5. 6. 1. 4.]\n",
      "Epoch:  0   Step:  1   batch_x:  [9. 4. 1. 2. 8.]   batch_y:  [ 2.  7. 10.  9.  3.]\n",
      "Epoch:  1   Step:  0   batch_x:  [1. 5. 8. 4. 6.]   batch_y:  [10.  6.  3.  7.  5.]\n",
      "Epoch:  1   Step:  1   batch_x:  [ 3. 10.  2.  9.  7.]   batch_y:  [8. 1. 9. 2. 4.]\n",
      "Epoch:  2   Step:  0   batch_x:  [7. 3. 8. 1. 2.]   batch_y:  [ 4.  8.  3. 10.  9.]\n",
      "Epoch:  2   Step:  1   batch_x:  [ 6. 10.  4.  5.  9.]   batch_y:  [5. 1. 7. 6. 2.]\n"
     ]
    }
   ],
   "source": [
    "# display\n",
    "\n",
    "for e in range(EPOCH):\n",
    "    for step, (batch_x,batch_y) in enumerate(loader):\n",
    "        print(\n",
    "            \"Epoch: \",e,\n",
    "            \"  Step: \",step,\n",
    "            \"  batch_x: \",batch_x.numpy(),\n",
    "            \"  batch_y: \",batch_y.numpy()\n",
    "        )"
   ]
  }
 ],
 "metadata": {
  "kernelspec": {
   "display_name": "Python 3",
   "language": "python",
   "name": "python3"
  },
  "language_info": {
   "codemirror_mode": {
    "name": "ipython",
    "version": 3
   },
   "file_extension": ".py",
   "mimetype": "text/x-python",
   "name": "python",
   "nbconvert_exporter": "python",
   "pygments_lexer": "ipython3",
   "version": "3.6.8"
  }
 },
 "nbformat": 4,
 "nbformat_minor": 2
}
