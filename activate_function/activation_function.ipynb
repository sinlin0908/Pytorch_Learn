{
 "cells": [
  {
   "cell_type": "code",
   "execution_count": 3,
   "metadata": {},
   "outputs": [],
   "source": [
    "import torch\n",
    "import torch.nn.functional \n",
    "from torch.autograd import Variable\n",
    "\n",
    "import matplotlib.pyplot as plt  #畫圖用的\n",
    "\n",
    "\n",
    "def relu(x):\n",
    "    return torch.nn.functional.relu(x)\n",
    "\n",
    "def sigmoid(x):\n",
    "    return torch.nn.functional.sigmoid(x)\n",
    "\n",
    "def tanh(x):\n",
    "    return torch.nn.functional.tanh(x)\n",
    "\n",
    "def softmax(x):\n",
    "    return torch.nn.functional.softmax(x)\n"
   ]
  },
  {
   "cell_type": "code",
   "execution_count": 4,
   "metadata": {},
   "outputs": [],
   "source": [
    "# fake data\n",
    "\n",
    "x = torch.linspace(-5,5,200) # (tensor) , shape = (200,1)\n",
    "x = Variable(x)\n",
    "x_np = x.data.numpy()\n"
   ]
  },
  {
   "cell_type": "code",
   "execution_count": 5,
   "metadata": {},
   "outputs": [],
   "source": [
    "def draw(x,y,fun_name):\n",
    "    plt.plot(x,y,c='red',label=fun_name)\n",
    "    plt.legend(loc=\"best\")\n"
   ]
  },
  {
   "cell_type": "code",
   "execution_count": 6,
   "metadata": {},
   "outputs": [
    {
     "data": {
      "image/png": "[encoded data removed]",
      "text/plain": [
       "<Figure size 432x288 with 1 Axes>"
      ]
     },
     "metadata": {
      "needs_background": "light"
     },
     "output_type": "display_data"
    }
   ],
   "source": [
    "y_relu_np = relu(x).data.numpy()\n",
    "\n",
    "draw(x_np,y_relu_np,\"relu\")"
   ]
  }
 ],
 "metadata": {
  "kernelspec": {
   "display_name": "Python 3",
   "language": "python",
   "name": "python3"
  },
  "language_info": {
   "codemirror_mode": {
    "name": "ipython",
    "version": 3
   },
   "file_extension": ".py",
   "mimetype": "text/x-python",
   "name": "python",
   "nbconvert_exporter": "python",
   "pygments_lexer": "ipython3",
   "version": "3.6.8"
  }
 },
 "nbformat": 4,
 "nbformat_minor": 2
}
