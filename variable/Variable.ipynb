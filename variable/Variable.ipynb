{
 "cells": [
  {
   "cell_type": "code",
   "execution_count": 4,
   "metadata": {},
   "outputs": [
    {
     "name": "stdout",
     "output_type": "stream",
     "text": [
      "\n",
      "tensor out:  7.5 \n",
      "\n",
      "variable out:  Variable containing:\n",
      " 7.5000\n",
      "[torch.FloatTensor of size 1]\n",
      "\n"
     ]
    }
   ],
   "source": [
    "import torch\n",
    "from torch.autograd import Variable\n",
    "\n",
    "tensor = torch.FloatTensor([[1,2],[3,4]])\n",
    "\n",
    "variable = Variable(tensor,requires_grad=True) # Variable\n",
    "\n",
    "\n",
    "# x^2\n",
    "tensor_out = torch.mean(tensor*tensor)\n",
    "\n",
    "variable_out = torch.mean(variable*variable)\n",
    "\n",
    "print(\n",
    "    \"\\ntensor out: \",tensor_out,\n",
    "    \"\\n\\nvariable out: \",variable_out\n",
    ")\n",
    "\n"
   ]
  },
  {
   "cell_type": "code",
   "execution_count": 5,
   "metadata": {},
   "outputs": [
    {
     "name": "stdout",
     "output_type": "stream",
     "text": [
      "gradient Variable containing:\n",
      " 0.5000  1.0000\n",
      " 1.5000  2.0000\n",
      "[torch.FloatTensor of size 2x2]\n",
      "\n"
     ]
    }
   ],
   "source": [
    "variable_out.backward() #誤差反向傳遞\n",
    "\n",
    "print(\n",
    "    \"gradient\",\n",
    "    variable.grad\n",
    ")\n",
    "\n",
    "'''\n",
    "    variable_out = 1/4 * sum(variable * variable)\n",
    "\n",
    "    gradient = d(variable_out)/d(variable) = 1/4 * 2 * variable = variable / 2\n",
    "\n",
    "'''"
   ]
  },
  {
   "cell_type": "code",
   "execution_count": 8,
   "metadata": {},
   "outputs": [
    {
     "data": {
      "text/plain": [
       "array([[1., 2.],\n",
       "       [3., 4.]], dtype=float32)"
      ]
     },
     "execution_count": 8,
     "metadata": {},
     "output_type": "execute_result"
    }
   ],
   "source": [
    "variable.data\n",
    "variable.data.numpy()"
   ]
  }
 ],
 "metadata": {
  "kernelspec": {
   "display_name": "Python 3",
   "language": "python",
   "name": "python3"
  },
  "language_info": {
   "codemirror_mode": {
    "name": "ipython",
    "version": 3
   },
   "file_extension": ".py",
   "mimetype": "text/x-python",
   "name": "python",
   "nbconvert_exporter": "python",
   "pygments_lexer": "ipython3",
   "version": "3.6.8"
  }
 },
 "nbformat": 4,
 "nbformat_minor": 2
}
