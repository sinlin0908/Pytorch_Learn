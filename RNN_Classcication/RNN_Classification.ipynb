{
 "cells": [
  {
   "cell_type": "code",
   "execution_count": 1,
   "metadata": {},
   "outputs": [],
   "source": [
    "import torch\n",
    "import torch.nn as nn\n",
    "import torch.utils.data as Data\n",
    "import torch.functional as F\n",
    "\n",
    "import torchvision #數據庫\n",
    "\n",
    "import matplotlib.pyplot as plt\n",
    "\n",
    "import os\n",
    "\n",
    "torch.manual_seed(1)\n",
    "USE_CUDA = torch.cuda.is_available()\n",
    "device = torch.device(\"cuda\" if USE_CUDA else \"cpu\")\n",
    "\n",
    "config = {\n",
    "    \"epoch\":5,\n",
    "    \"batch_size\":50,\n",
    "    \"LR\":0.001,\n",
    "    \"DOWNLOAD_MNIST\": False if os.path.exists('../mnist') else True,\n",
    "    \"INPUT_SIZE\" : 28,\n",
    "    \"TIME_STEP\":28\n",
    "}"
   ]
  },
  {
   "cell_type": "code",
   "execution_count": 2,
   "metadata": {},
   "outputs": [],
   "source": [
    "# 載入資料\n",
    "\n",
    "train_data = torchvision.datasets.MNIST(\n",
    "    root='../mnist',\n",
    "    train=True,\n",
    "    transform=torchvision.transforms.ToTensor(), # 值 0 ～ 1\n",
    "    download=config[\"DOWNLOAD_MNIST\"]\n",
    ")\n",
    "\n",
    "test_data = torchvision.datasets.MNIST(\n",
    "    root='../mnist',\n",
    "    train=False,\n",
    ")"
   ]
  },
  {
   "cell_type": "code",
   "execution_count": 3,
   "metadata": {},
   "outputs": [],
   "source": [
    "train_loader = Data.DataLoader(\n",
    "    dataset=train_data,\n",
    "    batch_size=config[\"batch_size\"],\n",
    "    shuffle=True,\n",
    "    num_workers=2\n",
    ")"
   ]
  },
  {
   "cell_type": "code",
   "execution_count": 4,
   "metadata": {},
   "outputs": [
    {
     "data": {
      "text/plain": [
       "(torch.Size([10000, 28, 28]), torch.Size([10000]))"
      ]
     },
     "execution_count": 4,
     "metadata": {},
     "output_type": "execute_result"
    }
   ],
   "source": [
    "# shape (2000, 28, 28) value in range(0,1)\n",
    "# value in range(0,1) \n",
    "test_x = test_data.test_data.type(torch.FloatTensor)\n",
    "\n",
    "test_x /= 255. # normalize\n",
    "\n",
    "test_y = test_data.test_labels\n",
    "\n",
    "test_x.size(),test_y.size()"
   ]
  },
  {
   "cell_type": "code",
   "execution_count": 5,
   "metadata": {},
   "outputs": [],
   "source": [
    "# RNN\n",
    "\n",
    "class LSTM(nn.Module):\n",
    "    def __init__(self):\n",
    "        super(LSTM,self).__init__()\n",
    "        \n",
    "        '''\n",
    "        batch_first -> True  (batch,time_step,input_size)\n",
    "                    -> False (time_step,batch,input_size)\n",
    "        '''\n",
    "        self.lstm_layer = nn.LSTM(\n",
    "            input_size = config[\"INPUT_SIZE\"],\n",
    "            hidden_size = 64,\n",
    "            num_layers = 1, \n",
    "            batch_first=True,\n",
    "        )\n",
    "        \n",
    "        self.output_layer = nn.Linear(\n",
    "            in_features=64,\n",
    "            out_features=10\n",
    "        )\n",
    "        \n",
    "    def forward(self,x):\n",
    "        '''\n",
    "        LSTM:\n",
    "            Input: \n",
    "                 input:\n",
    "                 h_0 : initial hidden state for each element, default 0\n",
    "                 c_0 : initial cell state for each element, default 0\n",
    "                 \n",
    "            Output:\n",
    "                output: output features (h_t) from the \"last layer\" of the LSTM,for each time\n",
    "                h_n: hidden state for t = seq_len.\n",
    "                c_n: the cell state for t = seq_len\n",
    "        '''\n",
    "        lstm_output,(h_n,h_c) = self.lstm_layer(x,None)\n",
    "        \n",
    "        out = self.output_layer(lstm_output[:,-1,:]) # get last time step\n",
    "                                                     # (batch,time step,input)\n",
    "        return out\n",
    "        \n",
    "        "
   ]
  },
  {
   "cell_type": "code",
   "execution_count": 6,
   "metadata": {},
   "outputs": [
    {
     "name": "stdout",
     "output_type": "stream",
     "text": [
      "LSTM(\n",
      "  (lstm_layer): LSTM(28, 64, batch_first=True)\n",
      "  (output_layer): Linear(in_features=64, out_features=10, bias=True)\n",
      ")\n"
     ]
    }
   ],
   "source": [
    "model = LSTM().to(device)\n",
    "\n",
    "print(model)"
   ]
  },
  {
   "cell_type": "code",
   "execution_count": 7,
   "metadata": {},
   "outputs": [],
   "source": [
    "def draw_loss(loss_history):\n",
    "    \n",
    "    plt.plot(loss_history,label=\"loss\",linewidth=1)\n",
    "    plt.legend(loc='best')\n",
    "    plt.xlabel('Steps')\n",
    "    plt.ylabel('Loss')\n",
    "    plt.ylim((0, 3))\n",
    "    plt.show()"
   ]
  },
  {
   "cell_type": "code",
   "execution_count": 8,
   "metadata": {},
   "outputs": [],
   "source": [
    "def train(model,data_loader):\n",
    "    l_h = []\n",
    "    model.train()\n",
    "    \n",
    "    optimizer = torch.optim.Adam(model.parameters(),lr=config[\"LR\"])\n",
    "    loss_fun = nn.CrossEntropyLoss()\n",
    "    \n",
    "    for epoch in range(config['epoch']):\n",
    "        for step,(b_x,b_y) in enumerate(data_loader):\n",
    "            \n",
    "            b_x,b_y = b_x.view(-1,28,28).to(device), b_y.to(device) # reshape x to (batch, time_step, input_size)\n",
    "\n",
    "             \n",
    "            optimizer.zero_grad()      \n",
    "            \n",
    "            output = model(b_x)\n",
    "            \n",
    "            loss = loss_fun(output,b_y)\n",
    "            \n",
    "            \n",
    "            \n",
    "            loss.backward()\n",
    "            optimizer.step()\n",
    "            \n",
    "            l_h.append(loss.item()) \n",
    "\n",
    "            if step % 200 == 0:\n",
    "                \n",
    "                print('Epoch: ', epoch, '| step ',step,'| train loss: %.4f' % loss.item())\n",
    "                \n",
    "                \n",
    "            \n",
    "    draw_loss(l_h)\n"
   ]
  },
  {
   "cell_type": "code",
   "execution_count": 9,
   "metadata": {},
   "outputs": [
    {
     "name": "stdout",
     "output_type": "stream",
     "text": [
      "Epoch:  0 | step  0 | train loss: 2.2841\n",
      "Epoch:  0 | step  200 | train loss: 0.9274\n",
      "Epoch:  0 | step  400 | train loss: 0.5716\n",
      "Epoch:  0 | step  600 | train loss: 0.3711\n",
      "Epoch:  0 | step  800 | train loss: 0.1801\n",
      "Epoch:  0 | step  1000 | train loss: 0.1581\n",
      "Epoch:  1 | step  0 | train loss: 0.2363\n",
      "Epoch:  1 | step  200 | train loss: 0.1291\n",
      "Epoch:  1 | step  400 | train loss: 0.1885\n",
      "Epoch:  1 | step  600 | train loss: 0.0754\n",
      "Epoch:  1 | step  800 | train loss: 0.2013\n",
      "Epoch:  1 | step  1000 | train loss: 0.0726\n",
      "Epoch:  2 | step  0 | train loss: 0.0191\n",
      "Epoch:  2 | step  200 | train loss: 0.0942\n",
      "Epoch:  2 | step  400 | train loss: 0.0705\n",
      "Epoch:  2 | step  600 | train loss: 0.0644\n",
      "Epoch:  2 | step  800 | train loss: 0.0393\n",
      "Epoch:  2 | step  1000 | train loss: 0.0184\n",
      "Epoch:  3 | step  0 | train loss: 0.0137\n",
      "Epoch:  3 | step  200 | train loss: 0.0601\n",
      "Epoch:  3 | step  400 | train loss: 0.1280\n",
      "Epoch:  3 | step  600 | train loss: 0.1481\n",
      "Epoch:  3 | step  800 | train loss: 0.0740\n",
      "Epoch:  3 | step  1000 | train loss: 0.0342\n",
      "Epoch:  4 | step  0 | train loss: 0.0845\n",
      "Epoch:  4 | step  200 | train loss: 0.0200\n",
      "Epoch:  4 | step  400 | train loss: 0.1376\n",
      "Epoch:  4 | step  600 | train loss: 0.0263\n",
      "Epoch:  4 | step  800 | train loss: 0.1121\n",
      "Epoch:  4 | step  1000 | train loss: 0.0048\n"
     ]
    },
    {
     "data": {
      "image/png": "[encoded data removed]",
      "text/plain": [
       "<Figure size 432x288 with 1 Axes>"
      ]
     },
     "metadata": {
      "needs_background": "light"
     },
     "output_type": "display_data"
    }
   ],
   "source": [
    "train(model,data_loader=train_loader)"
   ]
  },
  {
   "cell_type": "code",
   "execution_count": 10,
   "metadata": {},
   "outputs": [],
   "source": [
    "def test(model,test_x,test_y):\n",
    "    model.eval()\n",
    "    \n",
    "    with torch.no_grad():\n",
    "        test_x,test_y = test_x.to(device),test_y.to(device)                                                   \n",
    "        output = model(test_x)\n",
    "        predit = torch.max(output, 1)[1]\n",
    "        accuracy = torch.sum(predit==test_y).type(torch.FloatTensor)/test_y.size(0)\n",
    "        \n",
    "        print(accuracy.item())"
   ]
  },
  {
   "cell_type": "code",
   "execution_count": 11,
   "metadata": {},
   "outputs": [
    {
     "name": "stdout",
     "output_type": "stream",
     "text": [
      "0.9772999882698059\n"
     ]
    }
   ],
   "source": [
    "test(model,test_x,test_y)"
   ]
  }
 ],
 "metadata": {
  "kernelspec": {
   "display_name": "Python 3",
   "language": "python",
   "name": "python3"
  },
  "language_info": {
   "codemirror_mode": {
    "name": "ipython",
    "version": 3
   },
   "file_extension": ".py",
   "mimetype": "text/x-python",
   "name": "python",
   "nbconvert_exporter": "python",
   "pygments_lexer": "ipython3",
   "version": "3.6.8"
  }
 },
 "nbformat": 4,
 "nbformat_minor": 2
}
